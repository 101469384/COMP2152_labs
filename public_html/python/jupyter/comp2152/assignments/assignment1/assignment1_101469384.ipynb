{
 "cells": [
  {
   "cell_type": "code",
   "execution_count": 13,
   "id": "d80ddeb2-a5ce-44f2-b571-c509dcb57b73",
   "metadata": {},
   "outputs": [
    {
     "name": "stdout",
     "output_type": "stream",
     "text": [
      "{'Alex': (30, 45, 20), 'Jamie': (30, 45, 20), 'Taylor': (30, 45, 20), 'Alex_Total': 95, 'Jamie_Total': 95, 'Taylor_Total': 95}\n",
      "[[30, 45, 20], [30, 45, 20], [30, 45, 20]]\n",
      "Yoga & Running minutes: [[30, 45], [30, 45], [30, 45]]\n",
      "Weightlifting (last two friends): [20, 20]\n"
     ]
    },
    {
     "name": "stdin",
     "output_type": "stream",
     "text": [
      "Enter a friend's name:  Taylor\n"
     ]
    },
    {
     "name": "stdout",
     "output_type": "stream",
     "text": [
      "Taylor's workout stats: (30, 45, 20)\n",
      "Total workout time: 95 minutes\n",
      "Highest score: Alex with 95 minutes\n",
      "Lowest score: Alex with 95 minutes\n"
     ]
    }
   ],
   "source": [
    "\"\"\"\n",
    "Author: Sofiia Beliak\n",
    "Assignment 1\n",
    "\"\"\"\n",
    "\n",
    "# String variable\n",
    "gym_member = \"Alex Alliton\"  # str\n",
    "\n",
    "# Float variable\n",
    "preferred_weight_kg = 20.5  # float\n",
    "\n",
    "# Integer variable\n",
    "highest_reps = 25  # int\n",
    "\n",
    "# Boolean variable\n",
    "membership_active = True  # bool\n",
    "\n",
    "# Dictionary containing friends and their workout minutes\n",
    "workout_stats = {\n",
    "    \"Alex\": (30, 45, 20),  # (yoga, running, weightlifting)\n",
    "    \"Jamie\": (30, 45, 20),\n",
    "    \"Taylor\": (30, 45, 20)\n",
    "}\n",
    "\n",
    "# Store calculated total workout minutes separately\n",
    "total_minutes = {}\n",
    "\n",
    "for friend, minutes in workout_stats.items():\n",
    "    total = sum(minutes)\n",
    "    total_minutes[f\"{friend}_Total\"] = total  # Store in temp dictionary\n",
    "\n",
    "# Update original dictionary\n",
    "workout_stats.update(total_minutes)\n",
    "\n",
    "print(workout_stats)\n",
    "\n",
    "# 2D list from dictionary values\n",
    "workout_list = [list(minutes) for minutes in workout_stats.values() if isinstance(minutes, tuple)]\n",
    "print(workout_list)\n",
    "\n",
    "# Slicing\n",
    "yoga_running = [row[:2] for row in workout_list]\n",
    "print(\"Yoga & Running minutes:\", yoga_running)\n",
    "\n",
    "weightlifting = [row[2] for row in workout_list[-2:]]\n",
    "print(\"Weightlifting (last two friends):\", weightlifting)\n",
    "\n",
    "# Check if any friend has 120+ workout minutes\n",
    "for friend in workout_stats:\n",
    "    if \"_Total\" in friend and workout_stats[friend] >= 120:\n",
    "        print(f\"Great job staying active, {friend.replace('_Total', '')}!\")\n",
    "\n",
    "# User input feature\n",
    "friend_name = input(\"Enter a friend's name: \")\n",
    "\n",
    "if friend_name in workout_stats and isinstance(workout_stats[friend_name], tuple):\n",
    "    print(f\"{friend_name}'s workout stats: {workout_stats[friend_name]}\")\n",
    "    print(f\"Total workout time: {workout_stats.get(friend_name + '_Total', 0)} minutes\")\n",
    "else:\n",
    "    print(f\"Friend {friend_name} not found in the records.\")\n",
    "\n",
    "# Find highest and lowest workout scores\n",
    "totals = {k: v for k, v in workout_stats.items() if \"_Total\" in k}\n",
    "most_active = max(totals, key=totals.get)\n",
    "least_active = min(totals, key=totals.get)\n",
    "\n",
    "print(f\"Highest score: {most_active.replace('_Total', '')} with {totals[most_active]} minutes\")\n",
    "print(f\"Lowest score: {least_active.replace('_Total', '')} with {totals[least_active]} minutes\")\n",
    "\n"
   ]
  },
  {
   "cell_type": "code",
   "execution_count": null,
   "id": "5b9bc908-0f50-4acb-b648-cd9b86e4e33f",
   "metadata": {},
   "outputs": [],
   "source": []
  },
  {
   "cell_type": "code",
   "execution_count": null,
   "id": "97578919-55a8-462e-b1a7-60f6fb1bb0c4",
   "metadata": {},
   "outputs": [],
   "source": []
  }
 ],
 "metadata": {
  "kernelspec": {
   "display_name": "Python 3 (ipykernel)",
   "language": "python",
   "name": "python3"
  },
  "language_info": {
   "codemirror_mode": {
    "name": "ipython",
    "version": 3
   },
   "file_extension": ".py",
   "mimetype": "text/x-python",
   "name": "python",
   "nbconvert_exporter": "python",
   "pygments_lexer": "ipython3",
   "version": "3.9.21"
  }
 },
 "nbformat": 4,
 "nbformat_minor": 5
}
